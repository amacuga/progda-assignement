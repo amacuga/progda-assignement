{
 "cells": [
  {
   "cell_type": "markdown",
   "metadata": {},
   "source": [
    "# Problem statement"
   ]
  },
  {
   "cell_type": "markdown",
   "metadata": {},
   "source": [
    "The following assignment concerns the numpy.random package in Python. You are\n",
    "required to create a Jupyter notebook explaining the use of the package, including\n",
    "detailed explanations of at least five of the distributions provided for in the package.\n",
    "There are four distinct tasks to be carried out in your Jupyter notebook.\n",
    "1. Explain the overall purpose of the package.\n",
    "2. Explain the use of the “Simple random data” and “Permutations” functions.\n",
    "3. Explain the use and purpose of at least five “Distributions” functions.\n",
    "4. Explain the use of seeds in generating pseudorandom numbers."
   ]
  },
  {
   "cell_type": "markdown",
   "metadata": {},
   "source": [
    "# Section 1. Explain the overall purpose of the package."
   ]
  },
  {
   "cell_type": "markdown",
   "metadata": {},
   "source": [
    "NumPy is the fundamental package for scientific computing in Python. It is a Python library that provides a multidimensional array object, various derived objects (such as masked arrays and matrices), and an assortment of routines for fast operations on arrays, including mathematical, logical, shape manipulation, sorting, selecting, I/O, discrete Fourier transforms, basic linear algebra, basic statistical operations, random simulation and much more. NumPy’s main object is the homogeneous multidimensional array. It is a table of elements (usually numbers), all of the same type, indexed by a tuple of positive integers. In NumPy dimensions are called axes.\n",
    "\n",
    "Numpy.random package is a sub-package of a numpy package in Python.It's purpose is to generate a random numbers. Numpy.random package is divided into 4 sections:\n",
    "1. Simple random data- contains 10 functions\n",
    "![Simple random data](simple_random_data.jpg)\n",
    "2. Permutations- contains 2 functions\n",
    "![Permutations](permutations.jpg)\n",
    "3. Distributions- contains 35 functions\n",
    "![Distributions](distributions.jpg)\n",
    "4. Random generator- contains 4 functions\n",
    "![Random generator](random_generator.jpg)"
   ]
  },
  {
   "cell_type": "code",
   "execution_count": 1,
   "metadata": {},
   "outputs": [],
   "source": [
    "# Import packages\n",
    "import numpy as np\n",
    "import matplotlib.pyplot as plt\n",
    "%matplotlib inline"
   ]
  },
  {
   "cell_type": "markdown",
   "metadata": {},
   "source": [
    "# Section 2. Explain the use of the “Simple random data” and “Permutations” functions."
   ]
  },
  {
   "cell_type": "markdown",
   "metadata": {},
   "source": [
    "## Simple random data\n",
    "\n",
    "You can use Simple random data functions if you want to generate some random data for everyday purposes."
   ]
  },
  {
   "cell_type": "markdown",
   "metadata": {},
   "source": [
    "### [numpy.random.rand](https://docs.scipy.org/doc/numpy-1.15.4/reference/generated/numpy.random.rand.html#numpy.random.rand)(d0, d1, …, dn)\n",
    "\n",
    "Random values in a given shape."
   ]
  },
  {
   "cell_type": "code",
   "execution_count": 2,
   "metadata": {},
   "outputs": [
    {
     "data": {
      "text/plain": [
       "0.6416107859862125"
      ]
     },
     "execution_count": 2,
     "metadata": {},
     "output_type": "execute_result"
    }
   ],
   "source": [
    "# Returns random float between 0 and 1.\n",
    "np.random.rand()"
   ]
  },
  {
   "cell_type": "code",
   "execution_count": 3,
   "metadata": {},
   "outputs": [
    {
     "data": {
      "text/plain": [
       "array([0.25815492, 0.58356211, 0.64107909, 0.60334683, 0.53611827,\n",
       "       0.57629245, 0.14009786, 0.32084135, 0.36458649, 0.25359134])"
      ]
     },
     "execution_count": 3,
     "metadata": {},
     "output_type": "execute_result"
    }
   ],
   "source": [
    "# Returns 10 random floats between 0 and 1.\n",
    "np.random.rand(10)"
   ]
  },
  {
   "cell_type": "code",
   "execution_count": 4,
   "metadata": {},
   "outputs": [
    {
     "data": {
      "text/plain": [
       "array([[0.06488307, 0.42552095, 0.69793497],\n",
       "       [0.28881321, 0.94081338, 0.58141205],\n",
       "       [0.48670913, 0.79799469, 0.04652123],\n",
       "       [0.31447771, 0.74488704, 0.08423741],\n",
       "       [0.51529362, 0.04336488, 0.48163875]])"
      ]
     },
     "execution_count": 4,
     "metadata": {},
     "output_type": "execute_result"
    }
   ],
   "source": [
    "# Returns an array or random floats between 0 and 1 with the given shape.\n",
    "np.random.rand(5,3)"
   ]
  },
  {
   "cell_type": "markdown",
   "metadata": {},
   "source": [
    "### [numpy.random.randn](https://docs.scipy.org/doc/numpy-1.15.4/reference/generated/numpy.random.randn.html#numpy.random.randn)(d0, d1, …, dn)\n",
    "Return a sample (or samples) from the “standard normal” distribution."
   ]
  },
  {
   "cell_type": "code",
   "execution_count": 5,
   "metadata": {},
   "outputs": [
    {
     "data": {
      "text/plain": [
       "0.15015047951803812"
      ]
     },
     "execution_count": 5,
     "metadata": {},
     "output_type": "execute_result"
    }
   ],
   "source": [
    "# Returns random float from the standard normal distribution.\n",
    "np.random.randn()"
   ]
  },
  {
   "cell_type": "code",
   "execution_count": 6,
   "metadata": {},
   "outputs": [
    {
     "data": {
      "text/plain": [
       "array([-0.2658977 , -1.79609462,  1.76316271, -0.8530871 ,  1.10991048,\n",
       "       -1.80286162,  0.4296773 , -1.20785411, -0.1585322 , -0.20769562])"
      ]
     },
     "execution_count": 6,
     "metadata": {},
     "output_type": "execute_result"
    }
   ],
   "source": [
    "# Returns 10 random floats from the standard normal distribution.\n",
    "np.random.randn(10)"
   ]
  },
  {
   "cell_type": "code",
   "execution_count": 7,
   "metadata": {},
   "outputs": [
    {
     "data": {
      "text/plain": [
       "array([[ 0.61724491,  0.06755918, -0.06308273],\n",
       "       [-0.46670601, -0.90207631,  0.68657579],\n",
       "       [ 0.24830437,  1.01775972, -0.51349209],\n",
       "       [ 0.24581968, -1.43517448, -0.41855468],\n",
       "       [-0.03393122,  0.22923242,  0.63780721]])"
      ]
     },
     "execution_count": 7,
     "metadata": {},
     "output_type": "execute_result"
    }
   ],
   "source": [
    "# Returns an array of random floats from the standard normal distribution with the given shape.\n",
    "np.random.randn(5,3)"
   ]
  },
  {
   "cell_type": "markdown",
   "metadata": {},
   "source": [
    "### [numpy.random.randint](https://docs.scipy.org/doc/numpy-1.15.4/reference/generated/numpy.random.randint.html#numpy.random.randint)(low[, high, size, dtype])\n",
    "Return random integers from low (inclusive) to high (exclusive)."
   ]
  },
  {
   "cell_type": "code",
   "execution_count": 8,
   "metadata": {},
   "outputs": [
    {
     "data": {
      "text/plain": [
       "1"
      ]
     },
     "execution_count": 8,
     "metadata": {},
     "output_type": "execute_result"
    }
   ],
   "source": [
    "# Returns random integer from 0(inclusive) to 5(exclusive).\n",
    "np.random.randint(5)"
   ]
  },
  {
   "cell_type": "code",
   "execution_count": 9,
   "metadata": {},
   "outputs": [
    {
     "data": {
      "text/plain": [
       "8"
      ]
     },
     "execution_count": 9,
     "metadata": {},
     "output_type": "execute_result"
    }
   ],
   "source": [
    "# Returns random integer from 5(inclusive) to 10(exclusive).\n",
    "np.random.randint(5,10)"
   ]
  },
  {
   "cell_type": "code",
   "execution_count": 10,
   "metadata": {},
   "outputs": [
    {
     "data": {
      "text/plain": [
       "array([[5, 8, 6, 7],\n",
       "       [7, 5, 8, 8]])"
      ]
     },
     "execution_count": 10,
     "metadata": {},
     "output_type": "execute_result"
    }
   ],
   "source": [
    "# Returns an array of random integers between 5(inclusive) and 10 (exclusive) with the given shape.\n",
    "np.random.randint(5,10, size=(2,4))"
   ]
  },
  {
   "cell_type": "markdown",
   "metadata": {},
   "source": [
    "### [numpy.random.random_integers](https://docs.scipy.org/doc/numpy-1.15.4/reference/generated/numpy.random.random_integers.html#numpy.random.random_integers)(low[, high, size])\n",
    "\n",
    "Random integers of type np.int between low and high, inclusive.\n",
    "\n",
    "This function is deprecated."
   ]
  },
  {
   "cell_type": "markdown",
   "metadata": {},
   "source": [
    "### [numpy.random.random_sample](https://docs.scipy.org/doc/numpy-1.15.4/reference/generated/numpy.random.random_sample.html#numpy.random.random_sample)([size])\n",
    "Return random floats in the half-open interval [0.0, 1.0)."
   ]
  },
  {
   "cell_type": "code",
   "execution_count": 11,
   "metadata": {},
   "outputs": [
    {
     "data": {
      "text/plain": [
       "0.1805566364745378"
      ]
     },
     "execution_count": 11,
     "metadata": {},
     "output_type": "execute_result"
    }
   ],
   "source": [
    "# Returns random float between 0.0 and 1.0.\n",
    "np.random.random_sample()"
   ]
  },
  {
   "cell_type": "code",
   "execution_count": 12,
   "metadata": {},
   "outputs": [
    {
     "data": {
      "text/plain": [
       "array([0.84997611, 0.56149379, 0.39763447, 0.701847  , 0.53803853])"
      ]
     },
     "execution_count": 12,
     "metadata": {},
     "output_type": "execute_result"
    }
   ],
   "source": [
    "# Returns 5 random floats between 0.0 and 1.0.\n",
    "np.random.random_sample(5)"
   ]
  },
  {
   "cell_type": "code",
   "execution_count": 13,
   "metadata": {},
   "outputs": [
    {
     "data": {
      "text/plain": [
       "array([[0.39151625, 0.10030412, 0.686078  ],\n",
       "       [0.22412563, 0.97934067, 0.99577071],\n",
       "       [0.68485207, 0.74361036, 0.92587901],\n",
       "       [0.70589152, 0.73141104, 0.3188911 ],\n",
       "       [0.32163572, 0.1013883 , 0.16042732]])"
      ]
     },
     "execution_count": 13,
     "metadata": {},
     "output_type": "execute_result"
    }
   ],
   "source": [
    "# Returns an array of random floats between 0.0 and 1.0. with the given shape.\n",
    "np.random.random_sample((5, 3))"
   ]
  },
  {
   "cell_type": "markdown",
   "metadata": {},
   "source": [
    "### [numpy.random.random](https://docs.scipy.org/doc/numpy-1.15.4/reference/generated/numpy.random.random.html#numpy.random.random)(size=None)\n",
    "\n",
    "Return random floats in the half-open interval [0.0, 1.0)."
   ]
  },
  {
   "cell_type": "markdown",
   "metadata": {},
   "source": [
    "### [numpy.random.ranf](https://docs.scipy.org/doc/numpy-1.15.4/reference/generated/numpy.random.ranf.html#numpy.random.ranf)(size=None)\n",
    "\n",
    "Return random floats in the half-open interval [0.0, 1.0)."
   ]
  },
  {
   "cell_type": "markdown",
   "metadata": {},
   "source": [
    "### [numpy.random.sample](https://docs.scipy.org/doc/numpy-1.15.4/reference/generated/numpy.random.sample.html#numpy.random.sample)(size=None)\n",
    "\n",
    "Return random floats in the half-open interval [0.0, 1.0)."
   ]
  },
  {
   "cell_type": "markdown",
   "metadata": {},
   "source": [
    "### [numpy.random.choice](https://docs.scipy.org/doc/numpy-1.15.4/reference/generated/numpy.random.choice.html#numpy.random.choice)(a, size=None, replace=True, p=None)\n",
    "\n",
    "Generates a random sample from a given 1-D array."
   ]
  },
  {
   "cell_type": "code",
   "execution_count": 14,
   "metadata": {},
   "outputs": [
    {
     "data": {
      "text/plain": [
       "array([4, 5])"
      ]
     },
     "execution_count": 14,
     "metadata": {},
     "output_type": "execute_result"
    }
   ],
   "source": [
    "# Returns an uniform random sample from np.arange(6) of size 2.\n",
    "np.random.choice(6, 2)"
   ]
  },
  {
   "cell_type": "code",
   "execution_count": 15,
   "metadata": {},
   "outputs": [
    {
     "data": {
      "text/plain": [
       "array([2, 3], dtype=int64)"
      ]
     },
     "execution_count": 15,
     "metadata": {},
     "output_type": "execute_result"
    }
   ],
   "source": [
    "# Returns a non-uniform random sample from np.arange(6) of size 2.\n",
    "np.random.choice(6, 2, p=[0.1, 0.2, 0.4, 0.2, 0, 0.1])"
   ]
  },
  {
   "cell_type": "code",
   "execution_count": 16,
   "metadata": {},
   "outputs": [
    {
     "data": {
      "text/plain": [
       "array([1, 0])"
      ]
     },
     "execution_count": 16,
     "metadata": {},
     "output_type": "execute_result"
    }
   ],
   "source": [
    "# Returns a uniform random sample from np.arange(6) of size 2 without replacement.\n",
    "np.random.choice(6, 2, replace=False)"
   ]
  },
  {
   "cell_type": "code",
   "execution_count": 17,
   "metadata": {},
   "outputs": [
    {
     "data": {
      "text/plain": [
       "array([2, 1])"
      ]
     },
     "execution_count": 17,
     "metadata": {},
     "output_type": "execute_result"
    }
   ],
   "source": [
    "# Returns a non-uniform random sample from np.arange(6) of size 2 without replacement.\n",
    "np.random.choice(6, 2, replace=False, p=[0.1, 0.2, 0.4, 0.2, 0, 0.1])"
   ]
  },
  {
   "cell_type": "markdown",
   "metadata": {},
   "source": [
    "### [numpy.random.bytes](https://docs.scipy.org/doc/numpy-1.15.4/reference/generated/numpy.random.bytes.html#numpy.random.bytes)(length)\n",
    "\n",
    "Return random bytes."
   ]
  },
  {
   "cell_type": "code",
   "execution_count": 18,
   "metadata": {},
   "outputs": [
    {
     "data": {
      "text/plain": [
       "b'ir\\xe33\\xbc\\xc9\\xafk\\x12\\x9fc\\xe5\"2\\n'"
      ]
     },
     "execution_count": 18,
     "metadata": {},
     "output_type": "execute_result"
    }
   ],
   "source": [
    "# Returns random bytes\n",
    "np.random.bytes(15)"
   ]
  },
  {
   "cell_type": "markdown",
   "metadata": {},
   "source": [
    "## Permutations"
   ]
  },
  {
   "cell_type": "markdown",
   "metadata": {},
   "source": [
    "### [numpy.random.shuffle](https://docs.scipy.org/doc/numpy-1.15.4/reference/generated/numpy.random.shuffle.html#numpy.random.shuffle)(x)\n",
    "\n",
    "Modify a sequence in-place by shuffling its contents."
   ]
  },
  {
   "cell_type": "code",
   "execution_count": 19,
   "metadata": {},
   "outputs": [
    {
     "data": {
      "text/plain": [
       "array([10,  8,  9,  0, 11,  6,  1, 14,  4,  3, 12,  7,  2,  5, 13])"
      ]
     },
     "execution_count": 19,
     "metadata": {},
     "output_type": "execute_result"
    }
   ],
   "source": [
    "# Shuffle the list of integers from 0 to 14 inclusive.\n",
    "arr = np.arange(15)\n",
    "np.random.shuffle(arr)\n",
    "arr"
   ]
  },
  {
   "cell_type": "code",
   "execution_count": 20,
   "metadata": {},
   "outputs": [
    {
     "data": {
      "text/plain": [
       "array([[2, 3],\n",
       "       [0, 1],\n",
       "       [4, 5]])"
      ]
     },
     "execution_count": 20,
     "metadata": {},
     "output_type": "execute_result"
    }
   ],
   "source": [
    "# Shuffle the array with the given shape.\n",
    "arr = np.arange(6).reshape((3, 2))\n",
    "np.random.shuffle(arr)\n",
    "arr"
   ]
  },
  {
   "cell_type": "markdown",
   "metadata": {},
   "source": [
    "### [numpy.random.permutation](https://docs.scipy.org/doc/numpy-1.15.4/reference/generated/numpy.random.permutation.html#numpy.random.permutation)(x)\n",
    "\n",
    "Randomly permute a sequence, or return a permuted range."
   ]
  },
  {
   "cell_type": "code",
   "execution_count": 21,
   "metadata": {},
   "outputs": [
    {
     "data": {
      "text/plain": [
       "array([3, 0, 4, 5, 2, 1])"
      ]
     },
     "execution_count": 21,
     "metadata": {},
     "output_type": "execute_result"
    }
   ],
   "source": [
    "# Returns a permuted sequence of integers 0-5 inclusive.\n",
    "np.random.permutation(6)"
   ]
  },
  {
   "cell_type": "code",
   "execution_count": 22,
   "metadata": {},
   "outputs": [
    {
     "data": {
      "text/plain": [
       "array([12, 10,  2,  8,  6,  4])"
      ]
     },
     "execution_count": 22,
     "metadata": {},
     "output_type": "execute_result"
    }
   ],
   "source": [
    "# Returns a permuted sequence of given integers.\n",
    "np.random.permutation([2, 4, 6, 8, 10, 12])"
   ]
  },
  {
   "cell_type": "code",
   "execution_count": 23,
   "metadata": {},
   "outputs": [
    {
     "data": {
      "text/plain": [
       "array([[0, 1, 2],\n",
       "       [3, 4, 5]])"
      ]
     },
     "execution_count": 23,
     "metadata": {},
     "output_type": "execute_result"
    }
   ],
   "source": [
    "# Make a copy and shuffle the elements randomly.\n",
    "arr = np.arange(6).reshape((2, 3))\n",
    "np.random.permutation(arr)"
   ]
  },
  {
   "cell_type": "markdown",
   "metadata": {},
   "source": [
    "# Section 3. Explain the use and purpose of at least five “Distributions” functions."
   ]
  },
  {
   "cell_type": "markdown",
   "metadata": {},
   "source": [
    "## Distributions\n",
    "\n"
   ]
  },
  {
   "cell_type": "markdown",
   "metadata": {},
   "source": [
    "### [numpy.random.binomial](https://docs.scipy.org/doc/numpy-1.15.4/reference/generated/numpy.random.binomial.html#numpy.random.binomial)(n, p, size=None)\n",
    "\n",
    "Draw samples from a binomial distribution."
   ]
  },
  {
   "cell_type": "markdown",
   "metadata": {},
   "source": [
    "A binomial random variable counts how often a particular event occurs in a fixed number of tries or trials.\n",
    "\n",
    "* n = number of trials\n",
    "* p = probability event of interest occurs on any one trial\n",
    "* size = number of times you want to run this experiment\n",
    "\n",
    "EXAMPLE: We have a container with 4 balls. 3 balls are black, 1 ball is yellow."
   ]
  },
  {
   "cell_type": "code",
   "execution_count": 24,
   "metadata": {},
   "outputs": [
    {
     "data": {
      "text/plain": [
       "2"
      ]
     },
     "execution_count": 24,
     "metadata": {},
     "output_type": "execute_result"
    }
   ],
   "source": [
    "# We do one experiment- 10 trials, 25% probability of success of receiving yellow ball. \n",
    "np.random.binomial(n=10, p=0.25)"
   ]
  },
  {
   "cell_type": "code",
   "execution_count": 25,
   "metadata": {},
   "outputs": [
    {
     "data": {
      "image/png": "[encoded data removed]",
      "text/plain": [
       "<Figure size 432x288 with 1 Axes>"
      ]
     },
     "metadata": {
      "needs_background": "light"
     },
     "output_type": "display_data"
    }
   ],
   "source": [
    "# We do 10000 experiments.\n",
    "x = np.random.binomial(10, 0.25, size=10000)\n",
    "plt.hist(x)\n",
    "plt.show()"
   ]
  },
  {
   "cell_type": "code",
   "execution_count": 26,
   "metadata": {},
   "outputs": [
    {
     "data": {
      "text/plain": [
       "0.0567"
      ]
     },
     "execution_count": 26,
     "metadata": {},
     "output_type": "execute_result"
    }
   ],
   "source": [
    "# What's a probability that we won't receive a yellow ball.\n",
    "# We do 10000 experiments and count the number that generate zero positive results. \n",
    "sum(np.random.binomial(10, (0.25), 10000) == 0)/10000"
   ]
  },
  {
   "cell_type": "markdown",
   "metadata": {},
   "source": [
    "### [numpy.random.geometric](https://docs.scipy.org/doc/numpy-1.15.4/reference/generated/numpy.random.geometric.html#numpy.random.geometric)(p, size=None)\n",
    "\n",
    "Draw samples from the geometric distribution."
   ]
  },
  {
   "cell_type": "markdown",
   "metadata": {},
   "source": [
    "Bernoulli trials are experiments with one of two outcomes: success or failure (an example of such an experiment is flipping a coin). The geometric distribution models the number of trials that must be run in order to achieve success. It is therefore supported on the positive integers, k = 1, 2, ...\n",
    "\n",
    "* p = the probability of success of an individual trial\n",
    "* size = number of times we want to run the experiment"
   ]
  },
  {
   "cell_type": "code",
   "execution_count": 27,
   "metadata": {},
   "outputs": [
    {
     "data": {
      "image/png": "[encoded data removed]",
      "text/plain": [
       "<Figure size 432x288 with 1 Axes>"
      ]
     },
     "metadata": {
      "needs_background": "light"
     },
     "output_type": "display_data"
    }
   ],
   "source": [
    "# Flip the coin 10000 times, how many times you have to flip the coin to get heads?\n",
    "x = np.random.geometric(p=0.5, size=10000)\n",
    "plt.hist(x)\n",
    "plt.show()"
   ]
  },
  {
   "cell_type": "code",
   "execution_count": 28,
   "metadata": {},
   "outputs": [
    {
     "data": {
      "text/plain": [
       "0.5041"
      ]
     },
     "execution_count": 28,
     "metadata": {},
     "output_type": "execute_result"
    }
   ],
   "source": [
    "# In how many trials we get heads after a single run?\n",
    "(x == 1).sum() / 10000"
   ]
  },
  {
   "cell_type": "markdown",
   "metadata": {},
   "source": [
    "### [numpy.random.poisson](https://docs.scipy.org/doc/numpy-1.15.4/reference/generated/numpy.random.poisson.html#numpy.random.poisson)(lam=1.0, size=None)\n",
    "\n",
    "Draw samples from a Poisson distribution."
   ]
  },
  {
   "cell_type": "markdown",
   "metadata": {},
   "source": [
    "Poisson distribution tells us about how probable it is that a certain number of events happen in a fixed interval of time or space. This assumes that these events happen at a constant rate and also independent of the last event. It is a binomial approximated distribution which occurs when number of trials (n) becomes sufficiently large and probability of success (p) successively becomes small such that np becomes lam (constant), the distribution becomes poisson. \n",
    "\n",
    "* lam = lambda, expected number of events in the interval, should be greater to or equal to 0, the default value is 1.\n",
    "* size = output shape\n",
    "\n",
    "EXAMPLE: We expect 5 messages in an hour."
   ]
  },
  {
   "cell_type": "code",
   "execution_count": 29,
   "metadata": {},
   "outputs": [
    {
     "data": {
      "image/png": "[encoded data removed]",
      "text/plain": [
       "<Figure size 432x288 with 1 Axes>"
      ]
     },
     "metadata": {
      "needs_background": "light"
     },
     "output_type": "display_data"
    }
   ],
   "source": [
    "# Number of expected messages in 1 hour simulated 10000 times.\n",
    "x = np.random.poisson(5, 10000)\n",
    "plt.hist(x)\n",
    "plt.show()"
   ]
  },
  {
   "cell_type": "markdown",
   "metadata": {},
   "source": [
    "### [numpy.random.normal](https://docs.scipy.org/doc/numpy-1.15.4/reference/generated/numpy.random.normal.html#numpy.random.normal)(loc=0.0, scale=1.0, size=None)\n",
    "\n",
    "Draw random samples from a normal (Gaussian) distribution."
   ]
  },
  {
   "cell_type": "markdown",
   "metadata": {},
   "source": [
    "The probability density function of the normal distribution is often called the bell curve because of its characteristic shape. The normal distributions occurs often in nature. For example, it describes the commonly occurring distribution of samples influenced by a large number of tiny, random disturbances, each with its own unique distribution.\n",
    "\n",
    "* loc = centre of the distribution (mean), the default value is 0.\n",
    "* scale = spread of the distribution (standard deviation), the default value is 1.\n",
    "* size = output shape"
   ]
  },
  {
   "cell_type": "code",
   "execution_count": 30,
   "metadata": {},
   "outputs": [
    {
     "data": {
      "image/png": "[encoded data removed]",
      "text/plain": [
       "<Figure size 432x288 with 1 Axes>"
      ]
     },
     "metadata": {
      "needs_background": "light"
     },
     "output_type": "display_data"
    }
   ],
   "source": [
    "# Returns 1000 random values with mean 5 and standard deviation 0,5.\n",
    "x = np.random.normal(5, 0.5, 1000)\n",
    "plt.hist(x)\n",
    "plt.show()"
   ]
  },
  {
   "cell_type": "markdown",
   "metadata": {},
   "source": [
    "### [numpy.random.uniform](https://docs.scipy.org/doc/numpy-1.15.4/reference/generated/numpy.random.uniform.html#numpy.random.uniform)(low=0.0, high=1.0, size=None)\n",
    "\n",
    "Draw samples from a uniform distribution."
   ]
  },
  {
   "cell_type": "markdown",
   "metadata": {},
   "source": [
    "Samples are uniformly distributed over the half-open interval [low, high) (includes low, but excludes high). In other words, any value within the given interval is equally likely to be drawn by uniform.\n",
    "\n",
    "* low =  all values generated will be greater to or equal to low, the default value is 0.\n",
    "* high =  all values generated will be less than high, the default value is 1.\n",
    "* size = output shape"
   ]
  },
  {
   "cell_type": "code",
   "execution_count": 31,
   "metadata": {},
   "outputs": [
    {
     "data": {
      "text/plain": [
       "0.44850316443376026"
      ]
     },
     "execution_count": 31,
     "metadata": {},
     "output_type": "execute_result"
    }
   ],
   "source": [
    "# Returns 1 random value between 0 and 1\n",
    "np.random.uniform()"
   ]
  },
  {
   "cell_type": "code",
   "execution_count": 32,
   "metadata": {},
   "outputs": [
    {
     "data": {
      "image/png": "[encoded data removed]",
      "text/plain": [
       "<Figure size 432x288 with 1 Axes>"
      ]
     },
     "metadata": {
      "needs_background": "light"
     },
     "output_type": "display_data"
    }
   ],
   "source": [
    "# Returns 1000 random values between -2 and 2\n",
    "x = np.random.uniform(-2, 2, 1000)\n",
    "plt.hist(x)\n",
    "plt.show()"
   ]
  },
  {
   "cell_type": "markdown",
   "metadata": {},
   "source": [
    "# Section 4. Explain the use of seeds in generating pseudorandom numbers."
   ]
  },
  {
   "cell_type": "markdown",
   "metadata": {},
   "source": [
    "## Random generator\n",
    "\n"
   ]
  },
  {
   "cell_type": "markdown",
   "metadata": {},
   "source": [
    "# References"
   ]
  },
  {
   "cell_type": "markdown",
   "metadata": {},
   "source": [
    "[SciPy.org- Random sampling (numpy.random)](https://docs.scipy.org/doc/numpy-1.15.0/reference/routines.random.html)\n",
    "\n",
    "[StackOverflow- How to embed image](https://stackoverflow.com/questions/32370281/how-to-embed-image-or-picture-in-jupyter-notebook-either-from-a-local-machine-o)\n",
    "\n",
    "[SciPy.org- What is Numpy](https://docs.scipy.org/doc/numpy/user/whatisnumpy.html)\n",
    "\n",
    "[StackOverflow- Binomial distribution explained](https://stackoverflow.com/a/27644817)\n",
    "\n",
    "[Machine learning in action- Numeric distributions in Python](https://appliedmachinelearning.blog/2018/08/31/lets-talk-about-numeric-distributions-python/)\n",
    "\n",
    "[Data Flair- Python Probability Distributions](https://data-flair.training/blogs/python-probability-distributions/)"
   ]
  },
  {
   "cell_type": "code",
   "execution_count": null,
   "metadata": {},
   "outputs": [],
   "source": []
  }
 ],
 "metadata": {
  "kernelspec": {
   "display_name": "Python 3",
   "language": "python",
   "name": "python3"
  },
  "language_info": {
   "codemirror_mode": {
    "name": "ipython",
    "version": 3
   },
   "file_extension": ".py",
   "mimetype": "text/x-python",
   "name": "python",
   "nbconvert_exporter": "python",
   "pygments_lexer": "ipython3",
   "version": "3.7.4"
  }
 },
 "nbformat": 4,
 "nbformat_minor": 2
}
